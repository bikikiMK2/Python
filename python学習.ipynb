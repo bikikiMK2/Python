{
  "nbformat": 4,
  "nbformat_minor": 0,
  "metadata": {
    "colab": {
      "name": "python学習.ipynb",
      "provenance": [],
      "collapsed_sections": [],
      "mount_file_id": "1OlaHJJ6qVH3ig9re2dDum0krhPXmsW-K",
      "authorship_tag": "ABX9TyPFAdiwv0HZmBkBHz1Rh3z/",
      "include_colab_link": true
    },
    "kernelspec": {
      "name": "python3",
      "display_name": "Python 3"
    },
    "language_info": {
      "name": "python"
    }
  },
  "cells": [
    {
      "cell_type": "markdown",
      "metadata": {
        "id": "view-in-github",
        "colab_type": "text"
      },
      "source": [
        "<a href=\"https://colab.research.google.com/github/VikikiMk2/VikikiMk2/blob/main/python%E5%AD%A6%E7%BF%92.ipynb\" target=\"_parent\"><img src=\"https://colab.research.google.com/assets/colab-badge.svg\" alt=\"Open In Colab\"/></a>"
      ]
    },
    {
      "cell_type": "code",
      "metadata": {
        "colab": {
          "base_uri": "https://localhost:8080/"
        },
        "id": "qqw851rCsPz6",
        "outputId": "1fc211f6-c62a-4f82-9044-b5d7b2249241"
      },
      "source": [
        "# Shift + enter\n",
        "print(\"bikikiMK2\")"
      ],
      "execution_count": null,
      "outputs": [
        {
          "output_type": "stream",
          "text": [
            "bikikiMK2\n"
          ],
          "name": "stdout"
        }
      ]
    },
    {
      "cell_type": "code",
      "metadata": {
        "colab": {
          "base_uri": "https://localhost:8080/"
        },
        "id": "noz8fUBWJQTE",
        "outputId": "593ea0ed-e901-4616-83e6-434811026a7f"
      },
      "source": [
        "x = 2\n",
        "if x < 1:\n",
        "  print(\"一よりちいせえよ\")\n",
        "elif x > 1:\n",
        "  print(\"一よりでけえよ\")"
      ],
      "execution_count": null,
      "outputs": [
        {
          "output_type": "stream",
          "text": [
            "一よりでけえよ\n"
          ],
          "name": "stdout"
        }
      ]
    },
    {
      "cell_type": "code",
      "metadata": {
        "colab": {
          "base_uri": "https://localhost:8080/"
        },
        "id": "-JODuGtoRVUz",
        "outputId": "a583f749-b909-44ba-dc43-dc74552f1277"
      },
      "source": [
        "x = 0.99999999999999999\n",
        "if x < 1:\n",
        "  print(\"一よりちいせえよ\")\n",
        "elif x > 1:\n",
        "  print(\"一よりでけえよ\")\n",
        "else:\n",
        "  print(\"一だよ、これ\")"
      ],
      "execution_count": null,
      "outputs": [
        {
          "output_type": "stream",
          "text": [
            "一だよ、これ\n"
          ],
          "name": "stdout"
        }
      ]
    },
    {
      "cell_type": "code",
      "metadata": {
        "colab": {
          "base_uri": "https://localhost:8080/"
        },
        "id": "_XnghRnpSv7P",
        "outputId": "4f0fe403-0ab9-44a8-e4a8-8e0e53d16597"
      },
      "source": [
        "x = 5\n",
        "if x == 0:\n",
        "  print(x)\n",
        "elif x % 15 == 0:\n",
        "  print(\"fizzbuzz\")\n",
        "elif x % 3 == 0:\n",
        "  print(\"fizz\")\n",
        "elif x % 5 == 0:\n",
        "  print(\"Buzz\")\n",
        "else:\n",
        "  print(x)"
      ],
      "execution_count": null,
      "outputs": [
        {
          "output_type": "stream",
          "text": [
            "Buzz\n"
          ],
          "name": "stdout"
        }
      ]
    },
    {
      "cell_type": "code",
      "metadata": {
        "id": "wzk3QcdqYeEO"
      },
      "source": [
        "a = 1\n",
        "b = 3\n",
        "five = 5\n"
      ],
      "execution_count": null,
      "outputs": []
    },
    {
      "cell_type": "code",
      "metadata": {
        "colab": {
          "base_uri": "https://localhost:8080/"
        },
        "id": "RCI1uekXdDKD",
        "outputId": "6011f3a3-40aa-477f-bbd2-1ff61bc1ba74"
      },
      "source": [
        "print(a)\n",
        "print(b)\n",
        "print(five)"
      ],
      "execution_count": null,
      "outputs": [
        {
          "output_type": "stream",
          "text": [
            "1\n",
            "3\n",
            "5\n"
          ],
          "name": "stdout"
        }
      ]
    },
    {
      "cell_type": "code",
      "metadata": {
        "id": "y8AxsW6ghj-R"
      },
      "source": [
        "a = 1\n",
        "b = 3"
      ],
      "execution_count": null,
      "outputs": []
    },
    {
      "cell_type": "code",
      "metadata": {
        "colab": {
          "base_uri": "https://localhost:8080/"
        },
        "id": "TdxpbUoZhtaK",
        "outputId": "6628fc6e-d968-47f1-e089-678a417ec684"
      },
      "source": [
        "print(1 + 3)\n",
        "\n",
        "print(1 - 3)\n",
        "\n",
        "print(1 * 3)\n",
        "\n",
        "print(1 / 3)"
      ],
      "execution_count": null,
      "outputs": [
        {
          "output_type": "stream",
          "text": [
            "4\n",
            "-2\n",
            "3\n",
            "0.3333333333333333\n"
          ],
          "name": "stdout"
        }
      ]
    },
    {
      "cell_type": "code",
      "metadata": {
        "colab": {
          "base_uri": "https://localhost:8080/"
        },
        "id": "x5IZuXLoip7a",
        "outputId": "bc21a5cf-1ee1-45ca-bb90-ac732e5d6079"
      },
      "source": [
        "print(a + b)\n",
        "\n",
        "print(a - b)\n",
        "\n",
        "print(a * b)\n",
        "\n",
        "print(a / b)"
      ],
      "execution_count": null,
      "outputs": [
        {
          "output_type": "stream",
          "text": [
            "4\n",
            "-2\n",
            "3\n",
            "0.3333333333333333\n"
          ],
          "name": "stdout"
        }
      ]
    },
    {
      "cell_type": "code",
      "metadata": {
        "colab": {
          "base_uri": "https://localhost:8080/"
        },
        "id": "7ligR4OTi8iw",
        "outputId": "ae55e51a-e84a-48ed-916f-f4a2aa460db3"
      },
      "source": [
        "print(a // b)\n",
        "\n",
        "print(a % b)"
      ],
      "execution_count": null,
      "outputs": [
        {
          "output_type": "stream",
          "text": [
            "0\n",
            "1\n"
          ],
          "name": "stdout"
        }
      ]
    },
    {
      "cell_type": "code",
      "metadata": {
        "colab": {
          "base_uri": "https://localhost:8080/"
        },
        "id": "Rs2wJzoujjYH",
        "outputId": "425d8e13-102d-4d47-9dc9-459a93f1cbbb"
      },
      "source": [
        "s = 'うわー'\n",
        "\n",
        "print(s)"
      ],
      "execution_count": null,
      "outputs": [
        {
          "output_type": "stream",
          "text": [
            "うわー\n"
          ],
          "name": "stdout"
        }
      ]
    },
    {
      "cell_type": "code",
      "metadata": {
        "colab": {
          "base_uri": "https://localhost:8080/"
        },
        "id": "og3mm-bfkXZm",
        "outputId": "b91ed5ef-ea34-488c-fdf2-b4155657fdbc"
      },
      "source": [
        "print(s[0])"
      ],
      "execution_count": null,
      "outputs": [
        {
          "output_type": "stream",
          "text": [
            "う\n"
          ],
          "name": "stdout"
        }
      ]
    },
    {
      "cell_type": "code",
      "metadata": {
        "colab": {
          "base_uri": "https://localhost:8080/"
        },
        "id": "_rN6ehX4kq_0",
        "outputId": "bb5e6e82-26ac-4a95-cefa-81f7df2d6504"
      },
      "source": [
        "# 0:(から)3まで\n",
        "print(s[0:2])"
      ],
      "execution_count": null,
      "outputs": [
        {
          "output_type": "stream",
          "text": [
            "うわ\n"
          ],
          "name": "stdout"
        }
      ]
    },
    {
      "cell_type": "code",
      "metadata": {
        "id": "GDapErLglC5L",
        "colab": {
          "base_uri": "https://localhost:8080/"
        },
        "outputId": "1993b12c-dab2-4e6b-9eee-c6311853d8b7"
      },
      "source": [
        "a == 1"
      ],
      "execution_count": null,
      "outputs": [
        {
          "output_type": "execute_result",
          "data": {
            "text/plain": [
              "True"
            ]
          },
          "metadata": {
            "tags": []
          },
          "execution_count": 8
        }
      ]
    },
    {
      "cell_type": "code",
      "metadata": {
        "colab": {
          "base_uri": "https://localhost:8080/"
        },
        "id": "iyMp9LGmWBeH",
        "outputId": "b86dafe2-f59e-4700-89c5-c18a08bca625"
      },
      "source": [
        "b == 3"
      ],
      "execution_count": null,
      "outputs": [
        {
          "output_type": "execute_result",
          "data": {
            "text/plain": [
              "True"
            ]
          },
          "metadata": {
            "tags": []
          },
          "execution_count": 9
        }
      ]
    },
    {
      "cell_type": "code",
      "metadata": {
        "colab": {
          "base_uri": "https://localhost:8080/"
        },
        "id": "amwo0OYeWQr2",
        "outputId": "1ea5afee-edc4-4252-f5d8-f1b80f15e87e"
      },
      "source": [
        "a >= 3"
      ],
      "execution_count": null,
      "outputs": [
        {
          "output_type": "execute_result",
          "data": {
            "text/plain": [
              "False"
            ]
          },
          "metadata": {
            "tags": []
          },
          "execution_count": 12
        }
      ]
    },
    {
      "cell_type": "code",
      "metadata": {
        "colab": {
          "base_uri": "https://localhost:8080/"
        },
        "id": "ViBfqSZ7Wj3N",
        "outputId": "0e344774-e256-4559-a308-14fec229e152"
      },
      "source": [
        "print(a >= 2)\n",
        "print(b > 2)\n",
        "print(a <= 2)"
      ],
      "execution_count": null,
      "outputs": [
        {
          "output_type": "stream",
          "text": [
            "False\n",
            "True\n",
            "True\n"
          ],
          "name": "stdout"
        }
      ]
    },
    {
      "cell_type": "code",
      "metadata": {
        "id": "6lMLfvgiZifI"
      },
      "source": [
        "is_ok = True"
      ],
      "execution_count": null,
      "outputs": []
    },
    {
      "cell_type": "code",
      "metadata": {
        "colab": {
          "base_uri": "https://localhost:8080/"
        },
        "id": "vwxYCqOXapz9",
        "outputId": "1da5a76f-e17a-4794-df31-493bdda38ddc"
      },
      "source": [
        "is_ok == True"
      ],
      "execution_count": null,
      "outputs": [
        {
          "output_type": "execute_result",
          "data": {
            "text/plain": [
              "True"
            ]
          },
          "metadata": {
            "tags": []
          },
          "execution_count": 20
        }
      ]
    },
    {
      "cell_type": "code",
      "metadata": {
        "colab": {
          "base_uri": "https://localhost:8080/"
        },
        "id": "PBm2IEoObP8E",
        "outputId": "51941c83-f21c-4251-d5c6-afacf4c64da5"
      },
      "source": [
        "is_ok == False"
      ],
      "execution_count": null,
      "outputs": [
        {
          "output_type": "execute_result",
          "data": {
            "text/plain": [
              "False"
            ]
          },
          "metadata": {
            "tags": []
          },
          "execution_count": 22
        }
      ]
    },
    {
      "cell_type": "markdown",
      "metadata": {
        "id": "DAPXBix4b3Pu"
      },
      "source": [
        "・数値：int(または)float\n",
        "・文字列：str\n",
        "・bool値：bool"
      ]
    },
    {
      "cell_type": "code",
      "metadata": {
        "id": "DXtm6EVQbiu7"
      },
      "source": [
        "a = 2"
      ],
      "execution_count": null,
      "outputs": []
    },
    {
      "cell_type": "code",
      "metadata": {
        "colab": {
          "base_uri": "https://localhost:8080/"
        },
        "id": "1B_GrVushf4x",
        "outputId": "0c992869-a866-4f93-880c-161812455765"
      },
      "source": [
        "print(type(a))"
      ],
      "execution_count": null,
      "outputs": [
        {
          "output_type": "stream",
          "text": [
            "<class 'int'>\n"
          ],
          "name": "stdout"
        }
      ]
    },
    {
      "cell_type": "code",
      "metadata": {
        "id": "KU_kBhyvhjxO"
      },
      "source": [
        "six = 6\n",
        "pi = 3.14\n",
        "text = \"テキスト\"\n",
        "is_false = False"
      ],
      "execution_count": 4,
      "outputs": []
    },
    {
      "cell_type": "code",
      "metadata": {
        "colab": {
          "base_uri": "https://localhost:8080/"
        },
        "id": "ChD8sDBbiQo1",
        "outputId": "19461a25-b931-4ad1-9208-3477566bcb7b"
      },
      "source": [
        "print(type(six))\n",
        "print(type(pi))\n",
        "print(type(text))\n",
        "print(type(is_false))"
      ],
      "execution_count": 5,
      "outputs": [
        {
          "output_type": "stream",
          "text": [
            "<class 'int'>\n",
            "<class 'float'>\n",
            "<class 'str'>\n",
            "<class 'bool'>\n"
          ],
          "name": "stdout"
        }
      ]
    },
    {
      "cell_type": "code",
      "metadata": {
        "colab": {
          "base_uri": "https://localhost:8080/"
        },
        "id": "BIEFdJkgi9WV",
        "outputId": "d60618c7-37a0-41c6-d9a6-12fea30e1cde"
      },
      "source": [
        "three = 3\n",
        "print(type(three))\n",
        "print(three)\n",
        "three_str = str(three)\n",
        "print(three_str)"
      ],
      "execution_count": 6,
      "outputs": [
        {
          "output_type": "stream",
          "text": [
            "<class 'int'>\n",
            "3\n",
            "3\n"
          ],
          "name": "stdout"
        }
      ]
    },
    {
      "cell_type": "code",
      "metadata": {
        "colab": {
          "base_uri": "https://localhost:8080/"
        },
        "id": "aSg94sr1joWz",
        "outputId": "cdd96690-1454-46d5-bde5-de27ba47006c"
      },
      "source": [
        "print(type(three_str))\n",
        "three_int = int(three_str)\n",
        "print(type(three_str))\n",
        "print(three_int)"
      ],
      "execution_count": 7,
      "outputs": [
        {
          "output_type": "stream",
          "text": [
            "<class 'str'>\n",
            "<class 'str'>\n",
            "3\n"
          ],
          "name": "stdout"
        }
      ]
    },
    {
      "cell_type": "code",
      "metadata": {
        "colab": {
          "base_uri": "https://localhost:8080/"
        },
        "id": "3-m-mBoWlhAf",
        "outputId": "6caaa550-4a48-4df7-9430-4d9c7732af98"
      },
      "source": [
        "print(three == three_str)\n",
        "print(three == three_int)"
      ],
      "execution_count": 8,
      "outputs": [
        {
          "output_type": "stream",
          "text": [
            "False\n",
            "True\n"
          ],
          "name": "stdout"
        }
      ]
    },
    {
      "cell_type": "code",
      "metadata": {
        "colab": {
          "base_uri": "https://localhost:8080/"
        },
        "id": "aCzn70LhmPrt",
        "outputId": "762c7e45-420b-4b4c-cdca-16b0d05c45c3"
      },
      "source": [
        "i = 0\n",
        "print(i)\n",
        "i = i + 1\n",
        "print(1)\n",
        "i = i + 1\n",
        "print(i)\n",
        "i = i + 1\n",
        "print(i)\n",
        "i = i + 1\n",
        "print(i)"
      ],
      "execution_count": 2,
      "outputs": [
        {
          "output_type": "stream",
          "text": [
            "0\n",
            "1\n",
            "2\n",
            "3\n",
            "4\n"
          ],
          "name": "stdout"
        }
      ]
    },
    {
      "cell_type": "markdown",
      "metadata": {
        "id": "gvNGrBoLiF2I"
      },
      "source": [
        "・for文\n",
        "\n",
        "for文を使えば、繰り返し処理を行うことができる"
      ]
    },
    {
      "cell_type": "markdown",
      "metadata": {
        "id": "U2rSevHrLQZn"
      },
      "source": [
        "**(1,5)の最後の「５」は基本的に一つ減ると覚えとけ**"
      ]
    },
    {
      "cell_type": "code",
      "metadata": {
        "id": "7_ZW53O4XKeg",
        "colab": {
          "base_uri": "https://localhost:8080/"
        },
        "outputId": "4a7a9b38-8dd4-4e94-85e6-18e5d2983881"
      },
      "source": [
        "for i in range(1, 5):\n",
        "  print(i)"
      ],
      "execution_count": 1,
      "outputs": [
        {
          "output_type": "stream",
          "text": [
            "1\n",
            "2\n",
            "3\n",
            "4\n"
          ],
          "name": "stdout"
        }
      ]
    },
    {
      "cell_type": "markdown",
      "metadata": {
        "id": "dQSMACL5L0On"
      },
      "source": [
        "\n",
        "*   一つ飛ばしもできる\n",
        "\n"
      ]
    },
    {
      "cell_type": "code",
      "metadata": {
        "colab": {
          "base_uri": "https://localhost:8080/"
        },
        "id": "82HXchpMLCuC",
        "outputId": "e866cbb9-acb4-4e1f-93fb-3106bb3a34b8"
      },
      "source": [
        "for i in range(1, 5, 2):\n",
        "  print(i)"
      ],
      "execution_count": 9,
      "outputs": [
        {
          "output_type": "stream",
          "text": [
            "1\n",
            "3\n"
          ],
          "name": "stdout"
        }
      ]
    },
    {
      "cell_type": "markdown",
      "metadata": {
        "id": "KBG_oAyBMQIF"
      },
      "source": [
        "\n",
        "\n",
        "*   三つ飛ばしもできるぞ\n",
        "\n"
      ]
    },
    {
      "cell_type": "code",
      "metadata": {
        "colab": {
          "base_uri": "https://localhost:8080/"
        },
        "id": "kaTMDmqSMITi",
        "outputId": "6a107cb7-99ef-4da8-a49e-3ade89eb5fe2"
      },
      "source": [
        "for i in range(1, 10, 3):\n",
        "  print(i)"
      ],
      "execution_count": 12,
      "outputs": [
        {
          "output_type": "stream",
          "text": [
            "1\n",
            "4\n",
            "7\n"
          ],
          "name": "stdout"
        }
      ]
    },
    {
      "cell_type": "markdown",
      "metadata": {
        "id": "3kwddxjUODSw"
      },
      "source": [
        "・単純に数字を繰り返すだけでなく、文字列のインデックスを応用して、以下のような使いかたもい方もできるぞ"
      ]
    },
    {
      "cell_type": "code",
      "metadata": {
        "colab": {
          "base_uri": "https://localhost:8080/"
        },
        "id": "U_942iVbMk_9",
        "outputId": "bc9ceecb-1394-4449-fd51-a48c333257e9"
      },
      "source": [
        "word = \"アソパソマソ\"\n",
        "\n",
        "for i in range(6):\n",
        "  print(word[i])\n"
      ],
      "execution_count": 29,
      "outputs": [
        {
          "output_type": "stream",
          "text": [
            "ア\n",
            "ソ\n",
            "パ\n",
            "ソ\n",
            "マ\n",
            "ソ\n"
          ],
          "name": "stdout"
        }
      ]
    },
    {
      "cell_type": "markdown",
      "metadata": {
        "id": "qq63Z6CaO7YX"
      },
      "source": [
        "・len()を使ってもっといい感じに描く"
      ]
    },
    {
      "cell_type": "code",
      "metadata": {
        "colab": {
          "base_uri": "https://localhost:8080/"
        },
        "id": "KsghNhihNScM",
        "outputId": "7cb9ff7b-30c4-4222-90e4-b11d1e1193bf"
      },
      "source": [
        "for i in range(len(word)):\n",
        "  print(word[i])"
      ],
      "execution_count": 30,
      "outputs": [
        {
          "output_type": "stream",
          "text": [
            "ア\n",
            "ソ\n",
            "パ\n",
            "ソ\n",
            "マ\n",
            "ソ\n"
          ],
          "name": "stdout"
        }
      ]
    },
    {
      "cell_type": "markdown",
      "metadata": {
        "id": "AkLBE1N-QOkD"
      },
      "source": [
        "len()は長さを調べるときに使うよ　おぼえとこう"
      ]
    },
    {
      "cell_type": "markdown",
      "metadata": {
        "id": "qZr2d3kJQ-Fr"
      },
      "source": [
        "・インデックス指定しないfor(拡張for)"
      ]
    },
    {
      "cell_type": "code",
      "metadata": {
        "colab": {
          "base_uri": "https://localhost:8080/"
        },
        "id": "KhItcGciRd2U",
        "outputId": "a90798f7-80fe-40fd-c547-1dfb91d40316"
      },
      "source": [
        "word = \"Python\"\n",
        "\n",
        "for s in word:\n",
        "  print(s)"
      ],
      "execution_count": 32,
      "outputs": [
        {
          "output_type": "stream",
          "text": [
            "P\n",
            "y\n",
            "t\n",
            "h\n",
            "o\n",
            "n\n"
          ],
          "name": "stdout"
        }
      ]
    },
    {
      "cell_type": "markdown",
      "metadata": {
        "id": "ruX-l1vnSYrg"
      },
      "source": [
        "Pythonには数字や文字をたくさん入れて置けるリストと呼ばれるものがある\n",
        "その場合同じように中身を一つずつ取り出せます"
      ]
    },
    {
      "cell_type": "markdown",
      "metadata": {
        "id": "UjuGVH-rUzM7"
      },
      "source": [
        "また上と下の文では結果は同じだがコードは上のが見やすい。（・＿・）」"
      ]
    },
    {
      "cell_type": "markdown",
      "metadata": {
        "id": "tg94qfJoVch5"
      },
      "source": [
        "つまり、なるべくインデックスを指定しないで「for文」を使おう。"
      ]
    },
    {
      "cell_type": "code",
      "metadata": {
        "colab": {
          "base_uri": "https://localhost:8080/"
        },
        "id": "pFHFP-NzR5I8",
        "outputId": "6f9f2eb2-dec1-4061-8396-48f6898ea855"
      },
      "source": [
        "l = [\"Python\", \"Java\",\"Golang\"]\n",
        "for s in l:\n",
        "  print(s)\n",
        "for i in range(len(l)):\n",
        "  print(l[i])"
      ],
      "execution_count": 34,
      "outputs": [
        {
          "output_type": "stream",
          "text": [
            "Python\n",
            "Java\n",
            "Golang\n",
            "Python\n",
            "Java\n",
            "Golang\n"
          ],
          "name": "stdout"
        }
      ]
    },
    {
      "cell_type": "markdown",
      "metadata": {
        "id": "tHH4tKgEV_Iw"
      },
      "source": [
        "・while文\n",
        "\n",
        "\n",
        "while文を使うとfor文と同じように繰り返し処理を行うことができる\n",
        "\n",
        "while文を学習する前に、一を三回足し合わせるプログラムを作成しよう。"
      ]
    },
    {
      "cell_type": "code",
      "metadata": {
        "id": "OAgIzCmXUhJe"
      },
      "source": [
        "i = 1\n",
        "\n",
        "i = i + 1\n",
        "i = i + 1\n",
        "i = i + 1\n",
        "\n",
        "print(i)"
      ],
      "execution_count": null,
      "outputs": []
    },
    {
      "cell_type": "code",
      "metadata": {
        "id": "jJUOKjF5jJ3F"
      },
      "source": [
        ""
      ],
      "execution_count": null,
      "outputs": []
    },
    {
      "cell_type": "markdown",
      "metadata": {
        "id": "rlku7CGGXIf2"
      },
      "source": [
        "iを百回一を足そう"
      ]
    },
    {
      "cell_type": "markdown",
      "metadata": {
        "id": "lLR7vHKDYPr-"
      },
      "source": [
        "i が100未満の間 i に1を足し続ける"
      ]
    },
    {
      "cell_type": "code",
      "metadata": {
        "id": "7BjVByBIW_0A"
      },
      "source": [
        "i = 0\n",
        "\n",
        "while i < 100:\n",
        "  i = i + 1\n",
        "\n",
        "print(i)"
      ],
      "execution_count": null,
      "outputs": []
    },
    {
      "cell_type": "markdown",
      "metadata": {
        "id": "Il-ScU1hZZaR"
      },
      "source": [
        "間の計算結果も見れる"
      ]
    },
    {
      "cell_type": "code",
      "metadata": {
        "id": "z2XCNRTgXep4"
      },
      "source": [
        "i = 0\n",
        "while i <100:\n",
        "  i = i + 1\n",
        "  print(i)"
      ],
      "execution_count": null,
      "outputs": []
    },
    {
      "cell_type": "markdown",
      "metadata": {
        "id": "kjZqiCyyZk3b"
      },
      "source": [
        "省略するやり方もある"
      ]
    },
    {
      "cell_type": "markdown",
      "metadata": {
        "id": "vlcm3eiraXWP"
      },
      "source": [
        "i += 1を忘れると無限回計算されるから忘れないようにしよう。"
      ]
    },
    {
      "cell_type": "code",
      "metadata": {
        "id": "Wgh6mrXSZYRj"
      },
      "source": [
        "i = 0\n",
        "while i < 100:\n",
        "  i += 1\n",
        "  print(i)"
      ],
      "execution_count": null,
      "outputs": []
    },
    {
      "cell_type": "markdown",
      "metadata": {
        "id": "cnPvgU0Uaw_X"
      },
      "source": [
        "・breakとcontinue\n",
        "\n",
        "while文やfor文のような繰り返し処理をしていると、特定の条件だけスキップしたいときが出てきます。そのとき使うのがbreakとcontinueです。"
      ]
    },
    {
      "cell_type": "markdown",
      "metadata": {
        "id": "ucraiAxnbru0"
      },
      "source": [
        "・break\n",
        "\n",
        "途中で繰り返し処理を中断したいときには、breakを使う。"
      ]
    },
    {
      "cell_type": "markdown",
      "metadata": {
        "id": "wQ9oBZySc7mi"
      },
      "source": [
        "つまり、i + 1を10(9)回行うがiの値が5(4)になったら処理を停止(break)させるプログラム"
      ]
    },
    {
      "cell_type": "code",
      "metadata": {
        "id": "EI73x0bwZ9ha"
      },
      "source": [
        "#例１\n",
        "i = 0\n",
        "while i < 10:\n",
        "   print(i)\n",
        "   i += 1\n",
        "   if i == s:\n",
        "     break"
      ],
      "execution_count": null,
      "outputs": []
    },
    {
      "cell_type": "markdown",
      "metadata": {
        "id": "_JTHu0h7fDCW"
      },
      "source": [
        "while Trueはバグが起こりやすいので数値を入れよう"
      ]
    },
    {
      "cell_type": "code",
      "metadata": {
        "id": "8mKxLSeXckwV"
      },
      "source": [
        "#例２\n",
        "i = 0\n",
        "while True:\n",
        "  i += 1\n",
        "  print(i)\n",
        "  if i == 100:\n",
        "    break"
      ],
      "execution_count": null,
      "outputs": []
    },
    {
      "cell_type": "markdown",
      "metadata": {
        "id": "LUdLzoLShxfr"
      },
      "source": [
        "・continue"
      ]
    },
    {
      "cell_type": "markdown",
      "metadata": {
        "id": "MpGyogepfXhU"
      },
      "source": [
        "0～9まで出力するとき、数字の5だったらスキップするプログラム"
      ]
    },
    {
      "cell_type": "code",
      "metadata": {
        "id": "QKKA8JMHeiw5"
      },
      "source": [
        "for i in range(10):\n",
        "  if i== 5:\n",
        "    continue\n",
        "  print(i)"
      ],
      "execution_count": null,
      "outputs": []
    },
    {
      "cell_type": "markdown",
      "metadata": {
        "id": "S4gz19vggmrt"
      },
      "source": [
        "0～9まで出力するとき、3の倍数だったらスキップするプログラム"
      ]
    },
    {
      "cell_type": "code",
      "metadata": {
        "id": "yRIN8-xeg1I6"
      },
      "source": [
        "for i in range(10):\n",
        "  if i % 3 == 0:\n",
        "    continue\n",
        "  print(i)"
      ],
      "execution_count": null,
      "outputs": []
    },
    {
      "cell_type": "markdown",
      "metadata": {
        "id": "QFL0AIH-jRYN"
      },
      "source": [
        "\n",
        "\n"
      ]
    },
    {
      "cell_type": "markdown",
      "metadata": {
        "id": "8DPHswExjZPA"
      },
      "source": [
        "# リストとメソッド"
      ]
    },
    {
      "cell_type": "markdown",
      "metadata": {
        "id": "OrFzimopjw3k"
      },
      "source": [
        "・メソッドとは\n",
        "\n",
        "振る舞いという意味"
      ]
    },
    {
      "cell_type": "markdown",
      "metadata": {
        "id": "wojg9jSqnzjb"
      },
      "source": [
        "# ***・append***(要素の追加)"
      ]
    },
    {
      "cell_type": "code",
      "metadata": {
        "colab": {
          "base_uri": "https://localhost:8080/"
        },
        "id": "GntXnfyLhK-M",
        "outputId": "2c8e9f5b-e9bc-4f7b-8926-63158a3e2ac0"
      },
      "source": [
        "l = [1, 2, 3]\n",
        "#lに新しく4を追加\n",
        "l.append(4)\n",
        "#中身をprint\n",
        "print(l)\n"
      ],
      "execution_count": 86,
      "outputs": [
        {
          "output_type": "stream",
          "text": [
            "[1, 2, 3, 5]\n"
          ],
          "name": "stdout"
        }
      ]
    },
    {
      "cell_type": "markdown",
      "metadata": {
        "id": "v0rkyUuwk3ey"
      },
      "source": [
        "appendとfor文を応用するといかのようなリストを作成ができる"
      ]
    },
    {
      "cell_type": "code",
      "metadata": {
        "colab": {
          "base_uri": "https://localhost:8080/"
        },
        "id": "VJaNZJZGkOnF",
        "outputId": "5cad0988-63bb-4e38-f1cb-4830cfe50979"
      },
      "source": [
        "l = []\n",
        "#for文とappend()でリストの中身を追加する\n",
        "#iに0～5(4)までを代入する\n",
        "for i in range(5):\n",
        "#lにiを加える\n",
        "    l.append(i)\n",
        "print(l)"
      ],
      "execution_count": 88,
      "outputs": [
        {
          "output_type": "stream",
          "text": [
            "[0, 1, 2, 3, 4]\n"
          ],
          "name": "stdout"
        }
      ]
    },
    {
      "cell_type": "markdown",
      "metadata": {
        "id": "qRoXI8XHn74u"
      },
      "source": [
        "# ・insert(要素の追加)"
      ]
    },
    {
      "cell_type": "code",
      "metadata": {
        "colab": {
          "base_uri": "https://localhost:8080/"
        },
        "id": "uOBiIaqBlmuz",
        "outputId": "b579adec-d75c-42a6-f217-ffa4a1acf8ae"
      },
      "source": [
        "l = [1, 2, 3]\n",
        "\n",
        "l.insert(1, 10)\n",
        "print(l)"
      ],
      "execution_count": 89,
      "outputs": [
        {
          "output_type": "stream",
          "text": [
            "[1, 10, 2, 3]\n"
          ],
          "name": "stdout"
        }
      ]
    },
    {
      "cell_type": "markdown",
      "metadata": {
        "id": "RxNMkpFqolhG"
      },
      "source": [
        "# ・extend(リストの追加）"
      ]
    },
    {
      "cell_type": "code",
      "metadata": {
        "colab": {
          "base_uri": "https://localhost:8080/"
        },
        "id": "M5DqbQVdoS-l",
        "outputId": "b12b7407-269a-4358-8bbd-e877986deca1"
      },
      "source": [
        "#l1に1,2,3を格納する\n",
        "l1 = [1, 2, 3]\n",
        "#l2に4,5,6を格納する\n",
        "l2 = [4, 5, 6]\n",
        "#l1を拡張する\n",
        "l1.extend(l2)\n",
        "print(l1)"
      ],
      "execution_count": 90,
      "outputs": [
        {
          "output_type": "stream",
          "text": [
            "[1, 2, 3, 4, 5, 6]\n"
          ],
          "name": "stdout"
        }
      ]
    },
    {
      "cell_type": "markdown",
      "metadata": {
        "id": "7KZMsz_Dqa84"
      },
      "source": [
        "# ・remove(要素の削除）"
      ]
    },
    {
      "cell_type": "code",
      "metadata": {
        "colab": {
          "base_uri": "https://localhost:8080/"
        },
        "id": "wzEocIulqOqd",
        "outputId": "f91e2486-3ff4-48eb-fe2c-374d57bb9fb5"
      },
      "source": [
        "l = [1, 2, 3, 10]\n",
        "print(l)\n",
        "#リストから10を削除する\n",
        "l.remove(10)\n",
        "print(l)\n"
      ],
      "execution_count": 92,
      "outputs": [
        {
          "output_type": "stream",
          "text": [
            "[1, 2, 3, 10]\n",
            "[1, 2, 3]\n"
          ],
          "name": "stdout"
        }
      ]
    },
    {
      "cell_type": "markdown",
      "metadata": {
        "id": "lfLrsf7dsH3b"
      },
      "source": [
        "同じ数字が二個該当すると、最初にヒットするほうだけ削除されます。"
      ]
    },
    {
      "cell_type": "code",
      "metadata": {
        "colab": {
          "base_uri": "https://localhost:8080/"
        },
        "id": "pwLr5A7KrAdJ",
        "outputId": "df38a8a1-bd08-4ef5-ba57-f8663bc16ac4"
      },
      "source": [
        "l = [1, 10, 2, 3, 10]\n",
        "print(l)\n",
        "l.remove(10)\n",
        "print(l)"
      ],
      "execution_count": 95,
      "outputs": [
        {
          "output_type": "stream",
          "text": [
            "[1, 10, 2, 3, 10]\n",
            "[1, 2, 3, 10]\n"
          ],
          "name": "stdout"
        }
      ]
    },
    {
      "cell_type": "markdown",
      "metadata": {
        "id": "QG6hTTuIs5Ou"
      },
      "source": [
        "# リスト内包表記"
      ]
    },
    {
      "cell_type": "code",
      "metadata": {
        "colab": {
          "base_uri": "https://localhost:8080/"
        },
        "id": "8PgeQLr3tCUP",
        "outputId": "d54113ff-d56f-4512-e6e9-d76258e7594e"
      },
      "source": [
        "#空のリストを作成\n",
        "l = []\n",
        "#for文とappend()で0～4まで格納されたリストを作成する\n",
        "for i in range(5):\n",
        "  l.append(i)\n",
        "print(l)"
      ],
      "execution_count": 97,
      "outputs": [
        {
          "output_type": "stream",
          "text": [
            "[0, 1, 2, 3, 4]\n"
          ],
          "name": "stdout"
        }
      ]
    },
    {
      "cell_type": "markdown",
      "metadata": {
        "id": "fekStJPIt2ig"
      },
      "source": [
        "・リスト内梱包表記を使う"
      ]
    },
    {
      "cell_type": "markdown",
      "metadata": {
        "id": "uQeQ4WYzuj5d"
      },
      "source": [
        "省略化できるし、高速でしょりができる"
      ]
    },
    {
      "cell_type": "code",
      "metadata": {
        "colab": {
          "base_uri": "https://localhost:8080/"
        },
        "id": "oSa0M7C5tsM1",
        "outputId": "4d00c307-d1d4-4be6-b4d6-12c2b856d872"
      },
      "source": [
        "l = [i for i in range(5)]\n",
        "print(l)"
      ],
      "execution_count": 112,
      "outputs": [
        {
          "output_type": "stream",
          "text": [
            "[0, 1, 2, 3, 4]\n"
          ],
          "name": "stdout"
        }
      ]
    },
    {
      "cell_type": "markdown",
      "metadata": {
        "id": "UxvfagFWvya7"
      },
      "source": [
        "計測結果＝＝＝＝＝＝＝＝＝＝＝＝＝＝＝＝＝＝＝＝＝＝＝＝＝＝＝＝＝＝＝＝＝＝＝＝＝"
      ]
    },
    {
      "cell_type": "code",
      "metadata": {
        "colab": {
          "base_uri": "https://localhost:8080/"
        },
        "id": "WGPQ65K-vOV5",
        "outputId": "84b43f0d-f953-4427-e53e-cf1fa27b81ae"
      },
      "source": [
        "%%timeit\n",
        "l_v1 = []\n",
        "for i in range(5):\n",
        "  l_v1.append(l)"
      ],
      "execution_count": 107,
      "outputs": [
        {
          "output_type": "stream",
          "text": [
            "1000000 loops, best of 5: 724 ns per loop\n"
          ],
          "name": "stdout"
        }
      ]
    },
    {
      "cell_type": "markdown",
      "metadata": {
        "id": "jzAhPk8qxDBd"
      },
      "source": [
        "こっちのが早い↓"
      ]
    },
    {
      "cell_type": "code",
      "metadata": {
        "colab": {
          "base_uri": "https://localhost:8080/"
        },
        "id": "mvaDL5zCwcbw",
        "outputId": "0d52d9a7-32cd-4a3c-a710-bd3034e7251e"
      },
      "source": [
        "%%timeit\n",
        "l_v2 = [i for i in range(5)]"
      ],
      "execution_count": 111,
      "outputs": [
        {
          "output_type": "stream",
          "text": [
            "1000000 loops, best of 5: 553 ns per loop\n"
          ],
          "name": "stdout"
        }
      ]
    },
    {
      "cell_type": "code",
      "metadata": {
        "colab": {
          "base_uri": "https://localhost:8080/"
        },
        "id": "iMg676-swwp9",
        "outputId": "12de7cf8-e2e0-4bf2-d6dd-2278b3f1ebfe"
      },
      "source": [
        "l = [i for i in range(5) if i % 2 == 0]\n",
        "print(l)\n",
        "\n",
        "l = []\n",
        "for i in range(5):\n",
        "  if i % 2 == 0:\n",
        "       l.append(i)\n",
        "print(l)"
      ],
      "execution_count": 132,
      "outputs": [
        {
          "output_type": "stream",
          "text": [
            "[0, 2, 4]\n",
            "[0, 2, 4]\n"
          ],
          "name": "stdout"
        }
      ]
    },
    {
      "cell_type": "markdown",
      "metadata": {
        "id": "fE9YnOHJztYX"
      },
      "source": [
        "# ダブル"
      ]
    },
    {
      "cell_type": "markdown",
      "metadata": {
        "id": "4blc6AQv1AJy"
      },
      "source": [
        "ダブルはリスト同様に、複数の要素を格納できるが、\n",
        "ダブルでは、要素の追加・変更や、要素の削除ができません。"
      ]
    },
    {
      "cell_type": "markdown",
      "metadata": {
        "id": "JZvnhjIA0HFz"
      },
      "source": [
        "リスト＝[ ] ダブル＝( )"
      ]
    },
    {
      "cell_type": "code",
      "metadata": {
        "colab": {
          "base_uri": "https://localhost:8080/"
        },
        "id": "GCyKJ5Rf0GbU",
        "outputId": "d0dc9d1e-7884-4f65-f271-c91b82b07fbf"
      },
      "source": [
        "t = (1, 2, 3)\n",
        "print(t)\n",
        "print(type(t))"
      ],
      "execution_count": 135,
      "outputs": [
        {
          "output_type": "stream",
          "text": [
            "(1, 2, 3)\n",
            "<class 'tuple'>\n"
          ],
          "name": "stdout"
        }
      ]
    },
    {
      "cell_type": "code",
      "metadata": {
        "id": "PqEVg1o_2ikE"
      },
      "source": [
        ""
      ],
      "execution_count": null,
      "outputs": []
    }
  ]
}