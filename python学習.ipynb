{
  "nbformat": 4,
  "nbformat_minor": 0,
  "metadata": {
    "colab": {
      "name": "python学習.ipynb",
      "provenance": [],
      "authorship_tag": "ABX9TyOg8G9HMsFhzHK8R2soA1Kd"
    },
    "kernelspec": {
      "name": "python3",
      "display_name": "Python 3"
    },
    "language_info": {
      "name": "python"
    }
  },
  "cells": [
    {
      "cell_type": "code",
      "metadata": {
        "colab": {
          "base_uri": "https://localhost:8080/"
        },
        "id": "qqw851rCsPz6",
        "outputId": "1fc211f6-c62a-4f82-9044-b5d7b2249241"
      },
      "source": [
        "# Shift + enter\n",
        "print(\"bikikiMK2\")"
      ],
      "execution_count": null,
      "outputs": [
        {
          "output_type": "stream",
          "text": [
            "bikikiMK2\n"
          ],
          "name": "stdout"
        }
      ]
    },
    {
      "cell_type": "code",
      "metadata": {
        "colab": {
          "base_uri": "https://localhost:8080/"
        },
        "id": "noz8fUBWJQTE",
        "outputId": "593ea0ed-e901-4616-83e6-434811026a7f"
      },
      "source": [
        "x = 2\n",
        "if x < 1:\n",
        "  print(\"一よりちいせえよ\")\n",
        "elif x > 1:\n",
        "  print(\"一よりでけえよ\")"
      ],
      "execution_count": 29,
      "outputs": [
        {
          "output_type": "stream",
          "text": [
            "一よりでけえよ\n"
          ],
          "name": "stdout"
        }
      ]
    },
    {
      "cell_type": "code",
      "metadata": {
        "colab": {
          "base_uri": "https://localhost:8080/"
        },
        "id": "-JODuGtoRVUz",
        "outputId": "a583f749-b909-44ba-dc43-dc74552f1277"
      },
      "source": [
        "x = 0.99999999999999999\n",
        "if x < 1:\n",
        "  print(\"一よりちいせえよ\")\n",
        "elif x > 1:\n",
        "  print(\"一よりでけえよ\")\n",
        "else:\n",
        "  print(\"一だよ、これ\")"
      ],
      "execution_count": 72,
      "outputs": [
        {
          "output_type": "stream",
          "text": [
            "一だよ、これ\n"
          ],
          "name": "stdout"
        }
      ]
    },
    {
      "cell_type": "code",
      "metadata": {
        "colab": {
          "base_uri": "https://localhost:8080/"
        },
        "id": "_XnghRnpSv7P",
        "outputId": "86972670-0381-4807-e45f-4f994c798ff7"
      },
      "source": [
        "x = 30\n",
        "if x == 0:\n",
        "  print(x)\n",
        "elif x % 15 == 0:\n",
        "  print(\"fizzbuzz\")\n",
        "elif x % 3 == 0:\n",
        "  print(\"fizz\")\n",
        "elif x % 5 == 0:\n",
        "  print(\"Buzz\")\n",
        "else:\n",
        "  print(x)"
      ],
      "execution_count": 71,
      "outputs": [
        {
          "output_type": "stream",
          "text": [
            "fizzbuzz\n"
          ],
          "name": "stdout"
        }
      ]
    },
    {
      "cell_type": "code",
      "metadata": {
        "id": "wzk3QcdqYeEO"
      },
      "source": [
        ""
      ],
      "execution_count": null,
      "outputs": []
    }
  ]
}